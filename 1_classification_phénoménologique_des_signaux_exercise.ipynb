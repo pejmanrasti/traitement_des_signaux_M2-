{
  "cells": [
    {
      "cell_type": "markdown",
      "metadata": {
        "id": "view-in-github",
        "colab_type": "text"
      },
      "source": [
        "<a href=\"https://colab.research.google.com/github/pejmanrasti/traitement_des_signaux_M2-/blob/main/1_classification_ph%C3%A9nom%C3%A9nologique_des_signaux_exercise.ipynb\" target=\"_parent\"><img src=\"https://colab.research.google.com/assets/colab-badge.svg\" alt=\"Open In Colab\"/></a>"
      ]
    },
    {
      "cell_type": "markdown",
      "id": "0cd10453",
      "metadata": {
        "id": "0cd10453"
      },
      "source": [
        "# Exercice : Génération et Visualisation de Différents Types de Signaux\n",
        "\n",
        "Dans cet exercice, vous allez implémenter diverses fonctions pour générer différents types de signaux selon leur classification. Complétez chaque fonction ci-dessous en suivant les instructions. Une fois terminé, décommentez l'appel de la fonction pour visualiser le signal généré.\n"
      ]
    },
    {
      "cell_type": "code",
      "execution_count": null,
      "id": "d6f93a15",
      "metadata": {
        "id": "d6f93a15"
      },
      "outputs": [],
      "source": [
        "# Importation des bibliothèques nécessaires\n",
        "import numpy as np\n",
        "import matplotlib.pyplot as plt\n",
        "from scipy.fft import fft, fftfreq\n",
        "\n",
        "# Définir la taille des graphiques\n",
        "plt.rcParams[\"figure.figsize\"] = (10,6)\n"
      ]
    },
    {
      "cell_type": "markdown",
      "id": "8af36384",
      "metadata": {
        "id": "8af36384"
      },
      "source": [
        "## 1. Signal Sinusoïdal (Déterministe, Périodique)"
      ]
    },
    {
      "cell_type": "code",
      "execution_count": null,
      "id": "850725f1",
      "metadata": {
        "id": "850725f1"
      },
      "outputs": [],
      "source": [
        "def signal_sinusoidal():\n",
        "    # TODO: Créez un signal sinusoïdal avec une fréquence de 3 Hz.\n",
        "    t = np.linspace(0, 1, 500)\n",
        "    signal = None  # Remplacez cette ligne par votre code\n",
        "\n",
        "    plt.plot(t, signal)\n",
        "    plt.title(\"Signal Sinusoïdal (Périodique)\")\n",
        "    plt.xlabel(\"Temps (s)\")\n",
        "    plt.ylabel(\"Amplitude\")\n",
        "    plt.grid(True)\n",
        "    plt.show()\n",
        "\n",
        "# Décommentez pour tester votre fonction\n",
        "# signal_sinusoidal()\n"
      ]
    },
    {
      "cell_type": "markdown",
      "id": "e6902f13",
      "metadata": {
        "id": "e6902f13"
      },
      "source": [
        "## 2. Signal Périodique Composite (Déterministe, Périodique)"
      ]
    },
    {
      "cell_type": "code",
      "execution_count": null,
      "id": "5fd6dcb4",
      "metadata": {
        "id": "5fd6dcb4"
      },
      "outputs": [],
      "source": [
        "def signal_periodique_composite():\n",
        "    # TODO: Créez un signal composite en additionnant deux sinusoïdes de fréquences différentes (ex: 4 Hz et 8 Hz).\n",
        "    t = np.linspace(0, 1, 500)\n",
        "    signal = None  # Remplacez cette ligne par votre code\n",
        "\n",
        "    plt.plot(t, signal)\n",
        "    plt.title(\"Signal Périodique Composite\")\n",
        "    plt.xlabel(\"Temps (s)\")\n",
        "    plt.ylabel(\"Amplitude\")\n",
        "    plt.grid(True)\n",
        "    plt.show()\n",
        "\n",
        "# Décommentez pour tester votre fonction\n",
        "# signal_periodique_composite()\n"
      ]
    },
    {
      "cell_type": "markdown",
      "id": "1991145a",
      "metadata": {
        "id": "1991145a"
      },
      "source": [
        "## 3. Signal Pseudo-Aléatoire (Déterministe, Périodique)"
      ]
    },
    {
      "cell_type": "code",
      "execution_count": null,
      "id": "a3d117e0",
      "metadata": {
        "id": "a3d117e0"
      },
      "outputs": [],
      "source": [
        "def signal_pseudo_aleatoire():\n",
        "    # TODO: Créez un signal sinusoïdal avec une fréquence de 6 Hz, en ajoutant une phase aléatoire à chaque point du signal.\n",
        "    t = np.linspace(0, 1, 500)\n",
        "    signal = None  # Remplacez cette ligne par votre code\n",
        "\n",
        "    plt.plot(t, signal)\n",
        "    plt.title(\"Signal Pseudo-Aléatoire\")\n",
        "    plt.xlabel(\"Temps (s)\")\n",
        "    plt.ylabel(\"Amplitude\")\n",
        "    plt.grid(True)\n",
        "    plt.show()\n",
        "\n",
        "# Décommentez pour tester votre fonction\n",
        "# signal_pseudo_aleatoire()\n"
      ]
    },
    {
      "cell_type": "markdown",
      "id": "d737568c",
      "metadata": {
        "id": "d737568c"
      },
      "source": [
        "## 4. Signal Quasi-Périodique (Déterministe, Non Périodique)"
      ]
    },
    {
      "cell_type": "code",
      "execution_count": null,
      "id": "b1c8d032",
      "metadata": {
        "id": "b1c8d032"
      },
      "outputs": [],
      "source": [
        "def signal_quasi_periodique():\n",
        "    # TODO: Créez un signal composé de deux sinusoïdes de fréquences non multiples (ex: 2 Hz et 5 Hz).\n",
        "    t = np.linspace(0, 1, 500)\n",
        "    signal = None  # Remplacez cette ligne par votre code\n",
        "\n",
        "    plt.plot(t, signal)\n",
        "    plt.title(\"Signal Quasi-Périodique\")\n",
        "    plt.xlabel(\"Temps (s)\")\n",
        "    plt.ylabel(\"Amplitude\")\n",
        "    plt.grid(True)\n",
        "    plt.show()\n",
        "\n",
        "# Décommentez pour tester votre fonction\n",
        "# signal_quasi_periodique()\n"
      ]
    },
    {
      "cell_type": "markdown",
      "id": "908f4b78",
      "metadata": {
        "id": "908f4b78"
      },
      "source": [
        "## 5. Signal Transitoire (Déterministe, Non Périodique)"
      ]
    },
    {
      "cell_type": "code",
      "execution_count": null,
      "id": "699c3798",
      "metadata": {
        "id": "699c3798"
      },
      "outputs": [],
      "source": [
        "def signal_transitoire():\n",
        "    # TODO: Créez un signal transitoire qui décroît au fil du temps avec une fréquence de 7 Hz (ex: en utilisant une exponentielle décroissante).\n",
        "    t = np.linspace(0, 1, 500)\n",
        "    signal = None  # Remplacez cette ligne par votre code\n",
        "\n",
        "    plt.plot(t, signal)\n",
        "    plt.title(\"Signal Transitoire\")\n",
        "    plt.xlabel(\"Temps (s)\")\n",
        "    plt.ylabel(\"Amplitude\")\n",
        "    plt.grid(True)\n",
        "    plt.show()\n",
        "\n",
        "# Décommentez pour tester votre fonction\n",
        "# signal_transitoire()\n"
      ]
    },
    {
      "cell_type": "markdown",
      "id": "b7e743ef",
      "metadata": {
        "id": "b7e743ef"
      },
      "source": [
        "## 6. Signal Ergodique (Aléatoire)"
      ]
    },
    {
      "cell_type": "code",
      "execution_count": null,
      "id": "3f8dd9e8",
      "metadata": {
        "id": "3f8dd9e8"
      },
      "outputs": [],
      "source": [
        "def signal_ergodique():\n",
        "    # TODO: Créez un signal aléatoire avec une distribution normale, sans variation temporelle significative.\n",
        "    t = np.linspace(0, 1, 500)\n",
        "    signal = None  # Remplacez cette ligne par votre code\n",
        "\n",
        "    plt.plot(t, signal)\n",
        "    plt.title(\"Signal Ergodique\")\n",
        "    plt.xlabel(\"Temps (s)\")\n",
        "    plt.ylabel(\"Amplitude\")\n",
        "    plt.grid(True)\n",
        "    plt.show()\n",
        "\n",
        "# Décommentez pour tester votre fonction\n",
        "# signal_ergodique()\n"
      ]
    },
    {
      "cell_type": "markdown",
      "id": "f6538322",
      "metadata": {
        "id": "f6538322"
      },
      "source": [
        "## 7. Signal Non Ergodique (Aléatoire)"
      ]
    },
    {
      "cell_type": "code",
      "execution_count": null,
      "id": "afebbd4c",
      "metadata": {
        "id": "afebbd4c"
      },
      "outputs": [],
      "source": [
        "def signal_non_ergodique():\n",
        "    # TODO: Créez un signal aléatoire non ergodique en introduisant une variation (ex: une augmentation de l'amplitude dans une partie du signal).\n",
        "    t = np.linspace(0, 1, 500)\n",
        "    signal = None  # Remplacez cette ligne par votre code\n",
        "\n",
        "    plt.plot(t, signal)\n",
        "    plt.title(\"Signal Non Ergodique\")\n",
        "    plt.xlabel(\"Temps (s)\")\n",
        "    plt.ylabel(\"Amplitude\")\n",
        "    plt.grid(True)\n",
        "    plt.show()\n",
        "\n",
        "# Décommentez pour tester votre fonction\n",
        "# signal_non_ergodique()\n"
      ]
    }
  ],
  "metadata": {
    "colab": {
      "provenance": [],
      "include_colab_link": true
    }
  },
  "nbformat": 4,
  "nbformat_minor": 5
}