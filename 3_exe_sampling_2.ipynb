{
  "nbformat": 4,
  "nbformat_minor": 0,
  "metadata": {
    "colab": {
      "provenance": [],
      "authorship_tag": "ABX9TyMg2xHoKH7c3hfPfayah22+",
      "include_colab_link": true
    },
    "kernelspec": {
      "name": "python3",
      "display_name": "Python 3"
    },
    "language_info": {
      "name": "python"
    }
  },
  "cells": [
    {
      "cell_type": "markdown",
      "metadata": {
        "id": "view-in-github",
        "colab_type": "text"
      },
      "source": [
        "<a href=\"https://colab.research.google.com/github/pejmanrasti/traitement_des_signaux_M2-/blob/main/3_exe_sampling_2.ipynb\" target=\"_parent\"><img src=\"https://colab.research.google.com/assets/colab-badge.svg\" alt=\"Open In Colab\"/></a>"
      ]
    },
    {
      "cell_type": "markdown",
      "source": [
        "**Exercice 2:** Détection de Fréquence Cardiaque avec Analyse de Spectre\n",
        "\n",
        "Objectif: Implémenter un système de détection de fréquence cardiaque en utilisant l'analyse de Fourier pour détecter la fréquence principale dans un signal bruité."
      ],
      "metadata": {
        "id": "_E9zUu-fti6b"
      }
    },
    {
      "cell_type": "code",
      "execution_count": null,
      "metadata": {
        "id": "9s_ZDzE6tI2H"
      },
      "outputs": [],
      "source": [
        "import numpy as np\n",
        "import matplotlib.pyplot as plt\n",
        "\n",
        "# Simulation d'un signal de fréquence cardiaque avec du bruit\n",
        "def generer_signal_cardiaque(temps, bruit=False):\n",
        "    frequence_base = 1.2  # Fréquence cardiaque en Hz\n",
        "    signal = np.sin(2 * np.pi * frequence_base * temps)\n",
        "\n",
        "    if bruit:\n",
        "        signal += np.random.normal(0, 0.2, len(temps))  # Ajouter du bruit\n",
        "    return signal\n",
        "\n"
      ]
    },
    {
      "cell_type": "code",
      "source": [
        "# TODO: ÉTAPE 1: Complétez la fonction ci-dessous pour calculer la Transformée de Fourier du signal.\n",
        "# Utilisez `np.fft.fft` pour obtenir le spectre en fréquence.\n",
        "def analyse_spectrale(signal, frequence_echantillonnage):\n",
        "    # Complétez le code ici pour calculer la Transformée de Fourier\n",
        "    spectre = np.fft.fft(signal)\n",
        "    # Complétez le code ici pour générer les fréquences correspondantes\n",
        "    frequence = np.fft.fftfreq(len(signal), d=1/frequence_echantillonnage)\n",
        "    return frequence, np.abs(spectre)\n",
        "\n",
        "# Générer un signal cardiaque sur 10 secondes\n",
        "temps = np.linspace(0, 10, 1000)\n",
        "frequence_echantillonnage = 100  # 100 échantillons par seconde\n",
        "signal = generer_signal_cardiaque(temps, bruit=True)\n",
        "\n",
        "\n"
      ],
      "metadata": {
        "id": "3b79gbGxtw7B"
      },
      "execution_count": null,
      "outputs": []
    },
    {
      "cell_type": "code",
      "source": [
        "# TODO: ÉTAPE 2: Utilisez la fonction `analyse_spectrale` pour obtenir le spectre du signal.\n",
        "frequence, spectre = analyse_spectrale(signal, frequence_echantillonnage)\n",
        "\n",
        "# Affichage du signal temporel et du spectre\n",
        "plt.figure(figsize=(12, 6))\n",
        "\n",
        "# Affichage du signal temporel\n",
        "plt.subplot(1, 2, 1)\n",
        "plt.plot(temps, signal, label='Signal cardiaque avec bruit')\n",
        "plt.xlabel('Temps (s)')\n",
        "plt.ylabel('Amplitude')\n",
        "plt.title('Signal temporel')\n",
        "plt.legend()\n",
        "\n"
      ],
      "metadata": {
        "id": "IggW51fYtzrL"
      },
      "execution_count": null,
      "outputs": []
    },
    {
      "cell_type": "code",
      "source": [
        "# TODO: ÉTAPE 3: Tracer le spectre en fréquence du signal.\n",
        "# Affichage du spectre en fréquence\n",
        "plt.subplot(1, 2, 2)\n",
        "plt.plot(frequence, spectre)\n",
        "plt.xlim(0, 5)  # Limitez l'axe des x à la plage [0, 5] Hz\n",
        "plt.xlabel('Fréquence (Hz)')\n",
        "plt.ylabel('Amplitude')\n",
        "plt.title('Spectre en fréquence')\n",
        "plt.show()\n",
        "\n"
      ],
      "metadata": {
        "id": "siewOSyJt4Ep"
      },
      "execution_count": null,
      "outputs": []
    },
    {
      "cell_type": "code",
      "source": [
        "# TODO: ÉTAPE 4: Détection de la fréquence cardiaque.\n",
        "# Utilisez `np.argmax` pour trouver la fréquence principale.\n",
        "frequence_cardiaque = frequence[np.argmax(spectre)]\n",
        "print(f'Fréquence cardiaque détectée : {frequence_cardiaque:.2f} Hz')\n",
        "\n",
        "# Discussion:\n",
        "# - Comment l'ajout de bruit affecte-t-il le spectre ?\n",
        "# - Quelle est la précision de la détection de la fréquence cardiaque ?"
      ],
      "metadata": {
        "id": "V_zsS2mft9Zm"
      },
      "execution_count": null,
      "outputs": []
    }
  ]
}