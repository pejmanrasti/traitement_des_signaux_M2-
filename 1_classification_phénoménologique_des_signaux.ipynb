{
  "nbformat": 4,
  "nbformat_minor": 0,
  "metadata": {
    "colab": {
      "provenance": [],
      "authorship_tag": "ABX9TyPWnpbMcSnTuo2Jf6/e0KK/",
      "include_colab_link": true
    },
    "kernelspec": {
      "name": "python3",
      "display_name": "Python 3"
    },
    "language_info": {
      "name": "python"
    }
  },
  "cells": [
    {
      "cell_type": "markdown",
      "metadata": {
        "id": "view-in-github",
        "colab_type": "text"
      },
      "source": [
        "<a href=\"https://colab.research.google.com/github/pejmanrasti/traitement_des_signaux_M2-/blob/main/1_classification_ph%C3%A9nom%C3%A9nologique_des_signaux.ipynb\" target=\"_parent\"><img src=\"https://colab.research.google.com/assets/colab-badge.svg\" alt=\"Open In Colab\"/></a>"
      ]
    },
    {
      "cell_type": "code",
      "source": [
        "# Importation des bibliothèques nécessaires\n",
        "import numpy as np\n",
        "import matplotlib.pyplot as plt\n",
        "from scipy.fft import fft, fftfreq\n",
        "\n",
        "# Définir la taille des graphiques\n",
        "plt.rcParams[\"figure.figsize\"] = (10,6)"
      ],
      "metadata": {
        "id": "EYIICZF8fTAw"
      },
      "execution_count": 4,
      "outputs": []
    },
    {
      "cell_type": "code",
      "source": [
        "# Signal sinusoïdal (déterministe, périodique)\n",
        "def signal_sinusoidal():\n",
        "    t = np.linspace(0, 1, 500)\n",
        "    signal = np.sin(2 * np.pi * 5 * t)\n",
        "\n",
        "    plt.plot(t, signal)\n",
        "    plt.title(\"Signal Sinusoïdal (Périodique)\")\n",
        "    plt.xlabel(\"Temps (s)\")\n",
        "    plt.ylabel(\"Amplitude\")\n",
        "    plt.grid(True)\n",
        "    plt.show()\n",
        "\n",
        "\n",
        "# Appel des fonctions pour afficher chaque signal\n",
        "\n",
        "print(\"1. Signal Sinusoïdal:\")\n",
        "signal_sinusoidal()"
      ],
      "metadata": {
        "id": "NqA0vsHJfUSd"
      },
      "execution_count": null,
      "outputs": []
    },
    {
      "cell_type": "code",
      "source": [
        "# Signal périodique composite (déterministe, périodique)\n",
        "def signal_periodique_composite():\n",
        "    t = np.linspace(0, 1, 500)\n",
        "    signal = np.sin(2 * np.pi * 5 * t) + np.sin(2 * np.pi * 10 * t)\n",
        "\n",
        "    plt.plot(t, signal)\n",
        "    plt.title(\"Signal Périodique Composite\")\n",
        "    plt.xlabel(\"Temps (s)\")\n",
        "    plt.ylabel(\"Amplitude\")\n",
        "    plt.grid(True)\n",
        "    plt.show()\n",
        "\n",
        "# Appel de la fonction pour afficher le signal périodique composite\n",
        "print(\"Signal périodique composite:\")\n",
        "signal_periodique_composite()"
      ],
      "metadata": {
        "id": "eqPyZzo5fUs4"
      },
      "execution_count": null,
      "outputs": []
    },
    {
      "cell_type": "code",
      "source": [
        "# Signal pseudo-aléatoire (déterministe, périodique)\n",
        "def signal_pseudo_aleatoire():\n",
        "    t = np.linspace(0, 1, 500)\n",
        "    signal = np.sin(2 * np.pi * 5 * t + np.random.uniform(0, np.pi, t.shape))\n",
        "\n",
        "    plt.plot(t, signal)\n",
        "    plt.title(\"Signal Pseudo-Aléatoire\")\n",
        "    plt.xlabel(\"Temps (s)\")\n",
        "    plt.ylabel(\"Amplitude\")\n",
        "    plt.grid(True)\n",
        "    plt.show()\n",
        "\n",
        "# Appel de la fonction pour afficher le signal pseudo-aléatoire\n",
        "print(\"Signal pseudo-aléatoire:\")\n",
        "signal_pseudo_aleatoire()"
      ],
      "metadata": {
        "id": "BxSPpofCf926"
      },
      "execution_count": null,
      "outputs": []
    },
    {
      "cell_type": "code",
      "source": [
        "# Signal quasi-périodique (déterministe, non périodique)\n",
        "def signal_quasi_periodique():\n",
        "    t = np.linspace(0, 1, 500)\n",
        "    signal = np.sin(2 * np.pi * 5 * t) + np.sin(2 * np.pi * 7 * t)\n",
        "\n",
        "    plt.plot(t, signal)\n",
        "    plt.title(\"Signal Quasi-Périodique\")\n",
        "    plt.xlabel(\"Temps (s)\")\n",
        "    plt.ylabel(\"Amplitude\")\n",
        "    plt.grid(True)\n",
        "    plt.show()\n",
        "\n",
        "\n",
        "# Appel de la fonction pour afficher le signal quasi-périodique\n",
        "print(\"Signal quasi-périodique:\")\n",
        "signal_quasi_periodique()"
      ],
      "metadata": {
        "id": "EILfnkLwgEYd"
      },
      "execution_count": null,
      "outputs": []
    },
    {
      "cell_type": "code",
      "source": [
        "# Signal transitoire (déterministe, non périodique)\n",
        "def signal_transitoire():\n",
        "    t = np.linspace(0, 1, 500)\n",
        "    signal = np.exp(-5 * t) * np.sin(2 * np.pi * 5 * t)\n",
        "\n",
        "    plt.plot(t, signal)\n",
        "    plt.title(\"Signal Transitoire\")\n",
        "    plt.xlabel(\"Temps (s)\")\n",
        "    plt.ylabel(\"Amplitude\")\n",
        "    plt.grid(True)\n",
        "    plt.show()\n",
        "\n",
        "\n",
        "# Appel de la fonction pour afficher le signal transitoire\n",
        "print(\"Signal transitoire:\")\n",
        "signal_transitoire()"
      ],
      "metadata": {
        "id": "JeBNj4JlgEci"
      },
      "execution_count": null,
      "outputs": []
    },
    {
      "cell_type": "code",
      "source": [
        "# Signal ergodique (aléatoire)\n",
        "def signal_ergodique():\n",
        "    t = np.linspace(0, 1, 500)\n",
        "    signal = np.random.normal(0, 1, t.shape)\n",
        "\n",
        "    plt.plot(t, signal)\n",
        "    plt.title(\"Signal Ergodique\")\n",
        "    plt.xlabel(\"Temps (s)\")\n",
        "    plt.ylabel(\"Amplitude\")\n",
        "    plt.grid(True)\n",
        "    plt.show()\n",
        "\n",
        "\n",
        "# Appel de la fonction pour afficher le signal ergodique\n",
        "print(\"Signal ergodique:\")\n",
        "signal_ergodique()\n"
      ],
      "metadata": {
        "id": "xePA2UY3gUin"
      },
      "execution_count": null,
      "outputs": []
    },
    {
      "cell_type": "code",
      "source": [
        "# Signal non ergodique (aléatoire)\n",
        "def signal_non_ergodique():\n",
        "    t = np.linspace(0, 1, 500)\n",
        "    signal = np.random.normal(0, 1, t.shape)\n",
        "    signal[250:] += 2  # Ajouter une variation pour rendre le signal non ergodique\n",
        "\n",
        "    plt.plot(t, signal)\n",
        "    plt.title(\"Signal Non Ergodique\")\n",
        "    plt.xlabel(\"Temps (s)\")\n",
        "    plt.ylabel(\"Amplitude\")\n",
        "    plt.grid(True)\n",
        "    plt.show()\n",
        "\n",
        "\n",
        "# Appel de la fonction pour afficher le signal non ergodique\n",
        "print(\"Signal non ergodique:\")\n",
        "signal_non_ergodique()"
      ],
      "metadata": {
        "id": "V4am0FuagUZ-"
      },
      "execution_count": null,
      "outputs": []
    },
    {
      "cell_type": "code",
      "execution_count": null,
      "metadata": {
        "id": "rsFGVaRdcFYk"
      },
      "outputs": [],
      "source": [
        "# Classification spectrale\n",
        "def classification_spectrale():\n",
        "    t = np.linspace(0, 1, 500)\n",
        "    signal = np.sin(2 * np.pi * 5 * t) + np.sin(2 * np.pi * 50 * t)\n",
        "\n",
        "    # Calcul de la transformée de Fourier\n",
        "    yf = fft(signal)\n",
        "    xf = fftfreq(t.shape[0], t[1] - t[0])\n",
        "\n",
        "    plt.plot(xf[:250], np.abs(yf[:250]))\n",
        "    plt.title(\"Classification Spectrale\")\n",
        "    plt.xlabel(\"Fréquence (Hz)\")\n",
        "    plt.ylabel(\"Amplitude\")\n",
        "    plt.grid(True)\n",
        "    plt.show()\n",
        "\n",
        "\n",
        "\n",
        "# Appel de la fonction pour afficher la classification spectrale\n",
        "print(\"8. Classification Spectrale:\")\n",
        "classification_spectrale()\n"
      ]
    }
  ]
}