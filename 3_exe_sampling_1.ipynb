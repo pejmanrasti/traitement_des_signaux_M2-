{
  "nbformat": 4,
  "nbformat_minor": 0,
  "metadata": {
    "colab": {
      "provenance": [],
      "authorship_tag": "ABX9TyPoQ20dkng7KHb/M/5zUWtn",
      "include_colab_link": true
    },
    "kernelspec": {
      "name": "python3",
      "display_name": "Python 3"
    },
    "language_info": {
      "name": "python"
    }
  },
  "cells": [
    {
      "cell_type": "markdown",
      "metadata": {
        "id": "view-in-github",
        "colab_type": "text"
      },
      "source": [
        "<a href=\"https://colab.research.google.com/github/pejmanrasti/traitement_des_signaux_M2-/blob/main/3_exe_sampling_1.ipynb\" target=\"_parent\"><img src=\"https://colab.research.google.com/assets/colab-badge.svg\" alt=\"Open In Colab\"/></a>"
      ]
    },
    {
      "cell_type": "code",
      "execution_count": null,
      "metadata": {
        "id": "Oy-aec59sr9t"
      },
      "outputs": [],
      "source": [
        "import numpy as np\n",
        "import matplotlib.pyplot as plt\n",
        "\n",
        "# Simulation d'un signal de température dans une rivière sur 24 heures avec des changements brusques\n",
        "def generer_temperature(parasites=False):\n",
        "    heures = np.linspace(0, 24, 1000)  # 24 heures avec haute résolution\n",
        "    temperature = 10 + 5 * np.sin(2 * np.pi * heures / 24)  # Température de base variant entre 5 et 15°C\n",
        "\n",
        "    # Ajouter des variations rapides (parasites) si nécessaire\n",
        "    if parasites:\n",
        "        indices = np.random.randint(0, len(heures), 10)\n",
        "        temperature[indices] += np.random.uniform(5, 10, len(indices))\n",
        "\n",
        "    return heures, temperature\n",
        "\n"
      ]
    },
    {
      "cell_type": "code",
      "source": [
        "# TODO: ÉTAPE 1: Complétez la fonction ci-dessous pour échantillonner le signal à une fréquence donnée.\n",
        "# Utilisez `np.arange` pour créer les indices d'échantillonnage basés sur `frequence_echantillonnage`.\n",
        "def echantillonner_signal(heures, signal, frequence_echantillonnage):\n",
        "    # Complétez le code ici pour générer les indices d'échantillonnage\n",
        "    indices = np.arange(0, len(heures), frequence_echantillonnage)\n",
        "    # Complétez le code ici pour obtenir le signal échantillonné\n",
        "    heures_echantillonnees = heures[indices]\n",
        "    signal_echantillonne = signal[indices]\n",
        "    return heures_echantillonnees, signal_echantillonne\n",
        "\n",
        "# Générer le signal de température avec variations rapides\n",
        "heures, temperature = generer_temperature(parasites=True)\n",
        "\n"
      ],
      "metadata": {
        "id": "yjat0ppWswTW"
      },
      "execution_count": null,
      "outputs": []
    },
    {
      "cell_type": "code",
      "source": [
        "# TODO: ÉTAPE 2: Choisissez une fréquence d'échantillonnage et appelez la fonction `echantillonner_signal`.\n",
        "# Essayez d'abord avec `frequence_echantillonnage = 20` puis avec `frequence_echantillonnage = 50`.\n",
        "frequence_echantillonnage = 20\n",
        "heures_ech, temperature_ech = echantillonner_signal(heures, temperature, frequence_echantillonnage)\n",
        "\n"
      ],
      "metadata": {
        "id": "z_MpXE6Vs0VN"
      },
      "execution_count": null,
      "outputs": []
    },
    {
      "cell_type": "code",
      "source": [
        "# TODO: ÉTAPE 3: Implémentez un filtre simple pour lisser le signal échantillonné.\n",
        "# Utilisez une moyenne glissante sur les 5 dernières valeurs échantillonnées.\n",
        "def filtrer_signal(signal, fenetre):\n",
        "    # Complétez le code ici pour implémenter une moyenne glissante\n",
        "    signal_filtre = np.convolve(signal, np.ones(fenetre)/fenetre, mode='valid')\n",
        "    return signal_filtre\n",
        "\n",
        "# Appliquer le filtre au signal échantillonné\n",
        "fenetre_filtre = 5\n",
        "temperature_filtre = filtrer_signal(temperature_ech, fenetre_filtre)\n",
        "\n",
        "\n"
      ],
      "metadata": {
        "id": "7IoQv-Zbs3w1"
      },
      "execution_count": null,
      "outputs": []
    },
    {
      "cell_type": "code",
      "source": [
        "# Affichage des résultats\n",
        "plt.figure(figsize=(12, 6))\n",
        "plt.plot(heures, temperature, label='Température originale')\n",
        "plt.scatter(heures_ech, temperature_ech, color='red', label='Température échantillonnée')\n",
        "plt.plot(heures_ech[:len(temperature_filtre)], temperature_filtre, color='green', label='Température filtrée')\n",
        "plt.xlabel('Heures')\n",
        "plt.ylabel('Température (°C)')\n",
        "plt.title('Surveillance de la qualité de l\\'eau')\n",
        "plt.legend()\n",
        "plt.show()\n",
        "\n",
        "# Discussion:\n",
        "# - Quelle est l'importance du filtre dans ce contexte ?\n",
        "# - Comment la fréquence d'échantillonnage affecte-t-elle la qualité du signal filtré ?"
      ],
      "metadata": {
        "id": "OBS-rfnYs6wI"
      },
      "execution_count": null,
      "outputs": []
    }
  ]
}